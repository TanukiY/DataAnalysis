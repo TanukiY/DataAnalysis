{
 "cells": [
  {
   "cell_type": "markdown",
   "metadata": {},
   "source": [
    "# Лабораторная работа №1"
   ]
  },
  {
   "cell_type": "markdown",
   "metadata": {},
   "source": [
    "Выполнено студентом группы 4117 Николаевым Дмитрием"
   ]
  },
  {
   "cell_type": "markdown",
   "metadata": {},
   "source": [
    "## Индивидуальное задание"
   ]
  },
  {
   "cell_type": "markdown",
   "metadata": {},
   "source": [
    "Вариант 2 <br> \n",
    "Информация о поездках в такси:\n",
    "1. Дата и время начала \n",
    "2. Дата и время окончания \n",
    "3. Категория \n",
    "4. Место начала (можно не проверять данный столбец на наличие неявных дубликатов)\n",
    "5. Место окончания (можно не проверять данный столбец на наличие неявных дубликатов)\n",
    "6. Пройденные мили \n",
    "7. Цель поездки "
   ]
  },
  {
   "cell_type": "markdown",
   "metadata": {},
   "source": [
    "## Ход работы"
   ]
  },
  {
   "cell_type": "markdown",
   "metadata": {},
   "source": [
    "Загружен датасет через библиотеку Python - pandos. Используем ';' для разделение данных."
   ]
  },
  {
   "cell_type": "code",
   "execution_count": 1,
   "metadata": {},
   "outputs": [],
   "source": [
    "import pandas\n",
    "df = pandas.read_csv(\"drivers.csv\", sep =';')"
   ]
  },
  {
   "cell_type": "markdown",
   "metadata": {},
   "source": [
    "Далее выведены первые 20 строк через метод head()."
   ]
  },
  {
   "cell_type": "code",
   "execution_count": 2,
   "metadata": {},
   "outputs": [
    {
     "data": {
      "text/html": [
       "<div>\n",
       "<style scoped>\n",
       "    .dataframe tbody tr th:only-of-type {\n",
       "        vertical-align: middle;\n",
       "    }\n",
       "\n",
       "    .dataframe tbody tr th {\n",
       "        vertical-align: top;\n",
       "    }\n",
       "\n",
       "    .dataframe thead th {\n",
       "        text-align: right;\n",
       "    }\n",
       "</style>\n",
       "<table border=\"1\" class=\"dataframe\">\n",
       "  <thead>\n",
       "    <tr style=\"text-align: right;\">\n",
       "      <th></th>\n",
       "      <th>START_DATE</th>\n",
       "      <th>END_DATE</th>\n",
       "      <th>CATEGORY*</th>\n",
       "      <th>START</th>\n",
       "      <th>STOP</th>\n",
       "      <th>MILES</th>\n",
       "      <th>PURPOSEroute</th>\n",
       "    </tr>\n",
       "  </thead>\n",
       "  <tbody>\n",
       "    <tr>\n",
       "      <th>0</th>\n",
       "      <td>01.10.2016 19:12</td>\n",
       "      <td>01.10.2016 19:32</td>\n",
       "      <td>Business</td>\n",
       "      <td>Midtown</td>\n",
       "      <td>East Harlem</td>\n",
       "      <td>44963.0</td>\n",
       "      <td>MEETING</td>\n",
       "    </tr>\n",
       "    <tr>\n",
       "      <th>1</th>\n",
       "      <td>01.11.2016 13:32</td>\n",
       "      <td>01.11.2016 13:46</td>\n",
       "      <td>Business</td>\n",
       "      <td>Midtown</td>\n",
       "      <td>Midtown East</td>\n",
       "      <td>45108.0</td>\n",
       "      <td>Meal/Entertain</td>\n",
       "    </tr>\n",
       "    <tr>\n",
       "      <th>2</th>\n",
       "      <td>01.12.2016 12:33</td>\n",
       "      <td>01.12.2016 12:49</td>\n",
       "      <td>Business</td>\n",
       "      <td>Midtown</td>\n",
       "      <td>Hudson Square</td>\n",
       "      <td>45170.0</td>\n",
       "      <td>Meal/Entertain</td>\n",
       "    </tr>\n",
       "    <tr>\n",
       "      <th>3</th>\n",
       "      <td>1.13.2016 15:00</td>\n",
       "      <td>1.13.2016 15:28</td>\n",
       "      <td>Business</td>\n",
       "      <td>Gulfton</td>\n",
       "      <td>Downtown</td>\n",
       "      <td>45149.0</td>\n",
       "      <td>Meeting</td>\n",
       "    </tr>\n",
       "    <tr>\n",
       "      <th>4</th>\n",
       "      <td>1.29.2016 21:21</td>\n",
       "      <td>1.29.2016 21:40</td>\n",
       "      <td>Business</td>\n",
       "      <td>Apex</td>\n",
       "      <td>Cary</td>\n",
       "      <td>45051.0</td>\n",
       "      <td>Meal/Entertain</td>\n",
       "    </tr>\n",
       "    <tr>\n",
       "      <th>5</th>\n",
       "      <td>1.30.2016 18:09</td>\n",
       "      <td>1.30.2016 18:24</td>\n",
       "      <td>Business</td>\n",
       "      <td>Apex</td>\n",
       "      <td>Cary</td>\n",
       "      <td>45112.0</td>\n",
       "      <td>Customer Visit</td>\n",
       "    </tr>\n",
       "    <tr>\n",
       "      <th>6</th>\n",
       "      <td>02.01.2016 12:10</td>\n",
       "      <td>02.01.2016 12:43</td>\n",
       "      <td>Business</td>\n",
       "      <td>Chapel Hill</td>\n",
       "      <td>Cary</td>\n",
       "      <td>45008.0</td>\n",
       "      <td>Customer Visit</td>\n",
       "    </tr>\n",
       "    <tr>\n",
       "      <th>7</th>\n",
       "      <td>02.04.2016 9:37</td>\n",
       "      <td>02.04.2016 10:09</td>\n",
       "      <td>Business</td>\n",
       "      <td>Morrisville</td>\n",
       "      <td>Cary</td>\n",
       "      <td>45116.0</td>\n",
       "      <td>Meal/Entertain</td>\n",
       "    </tr>\n",
       "    <tr>\n",
       "      <th>8</th>\n",
       "      <td>02.07.2016 18:03</td>\n",
       "      <td>02.07.2016 18:17</td>\n",
       "      <td>Business</td>\n",
       "      <td>Apex</td>\n",
       "      <td>Cary</td>\n",
       "      <td>45112.0</td>\n",
       "      <td>Customer Visit</td>\n",
       "    </tr>\n",
       "    <tr>\n",
       "      <th>9</th>\n",
       "      <td>02.07.2016 20:22</td>\n",
       "      <td>02.07.2016 20:40</td>\n",
       "      <td>Business</td>\n",
       "      <td>Morrisville</td>\n",
       "      <td>Cary</td>\n",
       "      <td>44932.0</td>\n",
       "      <td>Meeting</td>\n",
       "    </tr>\n",
       "    <tr>\n",
       "      <th>10</th>\n",
       "      <td>02.09.2016 20:24</td>\n",
       "      <td>02.09.2016 20:40</td>\n",
       "      <td>Business</td>\n",
       "      <td>Morrisville</td>\n",
       "      <td>Cary</td>\n",
       "      <td>44932.0</td>\n",
       "      <td>Meal/Entertain</td>\n",
       "    </tr>\n",
       "    <tr>\n",
       "      <th>11</th>\n",
       "      <td>02.11.2016 20:36</td>\n",
       "      <td>02.11.2016 20:51</td>\n",
       "      <td>Business</td>\n",
       "      <td>Morrisville</td>\n",
       "      <td>Cary</td>\n",
       "      <td>44932.0</td>\n",
       "      <td>Temporary Site</td>\n",
       "    </tr>\n",
       "    <tr>\n",
       "      <th>12</th>\n",
       "      <td>02.12.2016 11:14</td>\n",
       "      <td>02.12.2016 11:35</td>\n",
       "      <td>Business</td>\n",
       "      <td>Morrisville</td>\n",
       "      <td>Raleigh</td>\n",
       "      <td>17.0</td>\n",
       "      <td>Customer Visit</td>\n",
       "    </tr>\n",
       "    <tr>\n",
       "      <th>13</th>\n",
       "      <td>02.12.2016 15:33</td>\n",
       "      <td>02.12.2016 16:06</td>\n",
       "      <td>Business</td>\n",
       "      <td>Morrisville</td>\n",
       "      <td>Cary</td>\n",
       "      <td>45057.0</td>\n",
       "      <td>Customer Visit</td>\n",
       "    </tr>\n",
       "    <tr>\n",
       "      <th>14</th>\n",
       "      <td>2.14.2016 14:46</td>\n",
       "      <td>2.14.2016 15:03</td>\n",
       "      <td>Business</td>\n",
       "      <td>Midtown</td>\n",
       "      <td>Midtown West</td>\n",
       "      <td>2.0</td>\n",
       "      <td>Meeting</td>\n",
       "    </tr>\n",
       "    <tr>\n",
       "      <th>15</th>\n",
       "      <td>2.16.2016 10:31</td>\n",
       "      <td>2.16.2016 10:41</td>\n",
       "      <td>BUSINESS</td>\n",
       "      <td>Colombo</td>\n",
       "      <td>Colombo</td>\n",
       "      <td>45079.0</td>\n",
       "      <td>NaN</td>\n",
       "    </tr>\n",
       "    <tr>\n",
       "      <th>16</th>\n",
       "      <td>2.16.2016 11:32</td>\n",
       "      <td>2.16.2016 12:02</td>\n",
       "      <td>Business</td>\n",
       "      <td>Colombo</td>\n",
       "      <td>Colombo</td>\n",
       "      <td>45050.0</td>\n",
       "      <td>NaN</td>\n",
       "    </tr>\n",
       "    <tr>\n",
       "      <th>17</th>\n",
       "      <td>2.16.2016 12:39</td>\n",
       "      <td>2.16.2016 12:42</td>\n",
       "      <td>Business</td>\n",
       "      <td>Colombo</td>\n",
       "      <td>Colombo</td>\n",
       "      <td>45108.0</td>\n",
       "      <td>NaN</td>\n",
       "    </tr>\n",
       "    <tr>\n",
       "      <th>18</th>\n",
       "      <td>2.16.2016 13:43</td>\n",
       "      <td>2.16.2016 13:55</td>\n",
       "      <td>BUSINESS</td>\n",
       "      <td>Colombo</td>\n",
       "      <td>Colombo</td>\n",
       "      <td>45139.0</td>\n",
       "      <td>Temporary Site</td>\n",
       "    </tr>\n",
       "    <tr>\n",
       "      <th>19</th>\n",
       "      <td>2.16.2016 16:34</td>\n",
       "      <td>2.16.2016 17:10</td>\n",
       "      <td>Business</td>\n",
       "      <td>Colombo</td>\n",
       "      <td>Colombo</td>\n",
       "      <td>6.0</td>\n",
       "      <td>NaN</td>\n",
       "    </tr>\n",
       "  </tbody>\n",
       "</table>\n",
       "</div>"
      ],
      "text/plain": [
       "          START_DATE          END_DATE CATEGORY*        START           STOP  \\\n",
       "0   01.10.2016 19:12  01.10.2016 19:32  Business      Midtown    East Harlem   \n",
       "1   01.11.2016 13:32  01.11.2016 13:46  Business      Midtown   Midtown East   \n",
       "2   01.12.2016 12:33  01.12.2016 12:49  Business      Midtown  Hudson Square   \n",
       "3    1.13.2016 15:00   1.13.2016 15:28  Business      Gulfton       Downtown   \n",
       "4    1.29.2016 21:21   1.29.2016 21:40  Business         Apex           Cary   \n",
       "5    1.30.2016 18:09   1.30.2016 18:24  Business         Apex           Cary   \n",
       "6   02.01.2016 12:10  02.01.2016 12:43  Business  Chapel Hill           Cary   \n",
       "7    02.04.2016 9:37  02.04.2016 10:09  Business  Morrisville           Cary   \n",
       "8   02.07.2016 18:03  02.07.2016 18:17  Business         Apex           Cary   \n",
       "9   02.07.2016 20:22  02.07.2016 20:40  Business  Morrisville           Cary   \n",
       "10  02.09.2016 20:24  02.09.2016 20:40  Business  Morrisville           Cary   \n",
       "11  02.11.2016 20:36  02.11.2016 20:51  Business  Morrisville           Cary   \n",
       "12  02.12.2016 11:14  02.12.2016 11:35  Business  Morrisville        Raleigh   \n",
       "13  02.12.2016 15:33  02.12.2016 16:06  Business  Morrisville           Cary   \n",
       "14   2.14.2016 14:46   2.14.2016 15:03  Business      Midtown   Midtown West   \n",
       "15   2.16.2016 10:31   2.16.2016 10:41  BUSINESS      Colombo        Colombo   \n",
       "16   2.16.2016 11:32   2.16.2016 12:02  Business      Colombo        Colombo   \n",
       "17   2.16.2016 12:39   2.16.2016 12:42  Business      Colombo        Colombo   \n",
       "18   2.16.2016 13:43   2.16.2016 13:55  BUSINESS      Colombo        Colombo   \n",
       "19   2.16.2016 16:34   2.16.2016 17:10  Business      Colombo        Colombo   \n",
       "\n",
       "      MILES    PURPOSEroute  \n",
       "0   44963.0         MEETING  \n",
       "1   45108.0  Meal/Entertain  \n",
       "2   45170.0  Meal/Entertain  \n",
       "3   45149.0         Meeting  \n",
       "4   45051.0  Meal/Entertain  \n",
       "5   45112.0  Customer Visit  \n",
       "6   45008.0  Customer Visit  \n",
       "7   45116.0  Meal/Entertain  \n",
       "8   45112.0  Customer Visit  \n",
       "9   44932.0         Meeting  \n",
       "10  44932.0  Meal/Entertain  \n",
       "11  44932.0  Temporary Site  \n",
       "12     17.0  Customer Visit  \n",
       "13  45057.0  Customer Visit  \n",
       "14      2.0         Meeting  \n",
       "15  45079.0             NaN  \n",
       "16  45050.0             NaN  \n",
       "17  45108.0             NaN  \n",
       "18  45139.0  Temporary Site  \n",
       "19      6.0             NaN  "
      ]
     },
     "execution_count": 2,
     "metadata": {},
     "output_type": "execute_result"
    }
   ],
   "source": [
    "df.head(20)"
   ]
  },
  {
   "cell_type": "markdown",
   "metadata": {},
   "source": [
    "Столбцы: <br>\n",
    "1. START_DATE и END_DATE: Эти столбцы содержат дату и время начала и завершения поездки. Они указывают, когда началась и завершилась каждая поездка.\n",
    "2. CATEGORY: Этот столбец обозначает категорию поездки. В данном случае, больше поездок \"Business\", что указывает на то, что она связана с деловой деятельностью.\n",
    "3. START и STOP: Эти столбцы указывают начальное и конечное местоположение поездки. Они указывают, откуда и куда направлялась поездка.\n",
    "4. MILES: Этот столбец содержит информацию о количестве миль, пройденных во время поездки. Это может быть полезным для расчета расстояний и затрат на топливо.\n",
    "5. PURPOSE: Этот столбец описывает цель поездки. Он указывает, для чего была совершена поездка, например, \"MEETING\" (встреча), \"Meal/Entertain\" (питание/развлечение), \"Customer Visit\" (визит к клиенту) и т. д. <br> <br>\n",
    "Предметная область этой таблицы связана с учетом и анализом служебных поездок. Возможно, она используется для отслеживания затрат на бизнес-поездки, анализа расходов на топливо, определения целей и местоположений поездок, а также для управления служебными маршрутами и встречами."
   ]
  },
  {
   "cell_type": "code",
   "execution_count": 3,
   "metadata": {},
   "outputs": [
    {
     "name": "stdout",
     "output_type": "stream",
     "text": [
      "<class 'pandas.core.frame.DataFrame'>\n",
      "RangeIndex: 161 entries, 0 to 160\n",
      "Data columns (total 7 columns):\n",
      " #   Column        Non-Null Count  Dtype  \n",
      "---  ------        --------------  -----  \n",
      " 0   START_DATE    161 non-null    object \n",
      " 1   END_DATE      161 non-null    object \n",
      " 2   CATEGORY*     161 non-null    object \n",
      " 3   START         161 non-null    object \n",
      " 4   STOP          161 non-null    object \n",
      " 5   MILES         161 non-null    float64\n",
      " 6   PURPOSEroute  84 non-null     object \n",
      "dtypes: float64(1), object(6)\n",
      "memory usage: 8.9+ KB\n"
     ]
    }
   ],
   "source": [
    "df.info()"
   ]
  },
  {
   "cell_type": "markdown",
   "metadata": {},
   "source": [
    "Результат выполнения метода info() показывает следующую информацию о DataFrame: <br>\n",
    "1. Всего строк: 161.\n",
    "2. Количество непустых (non-null) значений для каждого столбца.\n",
    "3. Типы данных для каждого столбца.<br><br>\n",
    "Из этой информации видно следующее: <br>\n",
    "- Столбцы \"START_DATE\", \"END_DATE\", \"CATEGORY*\", \"START\", \"STOP\" и \"PURPOSEroute\" содержат объекты (строки).\n",
    "- Столбец \"MILES\" содержит числовые значения с типом данных float64.\n",
    "- Столбец \"PURPOSEroute\" имеет некоторые пропущенные значения, так как количество непустых значений меньше общего числа строк.<br>"
   ]
  },
  {
   "cell_type": "markdown",
   "metadata": {},
   "source": [
    "С помощью команды describe оцениваем числовые столбцы (если они есть)."
   ]
  },
  {
   "cell_type": "code",
   "execution_count": 4,
   "metadata": {},
   "outputs": [
    {
     "data": {
      "text/html": [
       "<div>\n",
       "<style scoped>\n",
       "    .dataframe tbody tr th:only-of-type {\n",
       "        vertical-align: middle;\n",
       "    }\n",
       "\n",
       "    .dataframe tbody tr th {\n",
       "        vertical-align: top;\n",
       "    }\n",
       "\n",
       "    .dataframe thead th {\n",
       "        text-align: right;\n",
       "    }\n",
       "</style>\n",
       "<table border=\"1\" class=\"dataframe\">\n",
       "  <thead>\n",
       "    <tr style=\"text-align: right;\">\n",
       "      <th></th>\n",
       "      <th>MILES</th>\n",
       "    </tr>\n",
       "  </thead>\n",
       "  <tbody>\n",
       "    <tr>\n",
       "      <th>count</th>\n",
       "      <td>161.000000</td>\n",
       "    </tr>\n",
       "    <tr>\n",
       "      <th>mean</th>\n",
       "      <td>37766.519255</td>\n",
       "    </tr>\n",
       "    <tr>\n",
       "      <th>std</th>\n",
       "      <td>16614.925558</td>\n",
       "    </tr>\n",
       "    <tr>\n",
       "      <th>min</th>\n",
       "      <td>0.800000</td>\n",
       "    </tr>\n",
       "    <tr>\n",
       "      <th>25%</th>\n",
       "      <td>44931.000000</td>\n",
       "    </tr>\n",
       "    <tr>\n",
       "      <th>50%</th>\n",
       "      <td>45008.000000</td>\n",
       "    </tr>\n",
       "    <tr>\n",
       "      <th>75%</th>\n",
       "      <td>45081.000000</td>\n",
       "    </tr>\n",
       "    <tr>\n",
       "      <th>max</th>\n",
       "      <td>45177.000000</td>\n",
       "    </tr>\n",
       "  </tbody>\n",
       "</table>\n",
       "</div>"
      ],
      "text/plain": [
       "              MILES\n",
       "count    161.000000\n",
       "mean   37766.519255\n",
       "std    16614.925558\n",
       "min        0.800000\n",
       "25%    44931.000000\n",
       "50%    45008.000000\n",
       "75%    45081.000000\n",
       "max    45177.000000"
      ]
     },
     "execution_count": 4,
     "metadata": {},
     "output_type": "execute_result"
    }
   ],
   "source": [
    "df.describe()"
   ]
  },
  {
   "cell_type": "markdown",
   "metadata": {},
   "source": [
    "Результат выполнения метода describe() для числового столбца \"MILES\" выглядит следующим образом: <br>\n",
    "- count: Количество непустых (non-null) значений в столбце - 161.\n",
    "- mean: Среднее значение - 37766.519255.\n",
    "- std: Стандартное отклонение - 16614.925558.\n",
    "- min: Минимальное значение - 0.800000.\n",
    "- 25%: 25-й процентиль - 44931.000000.\n",
    "- 50%: Медианное значение (50-й процентиль) - 45008.000000.\n",
    "- 75%: 75-й процентиль - 45081.000000.\n",
    "- max: Максимальное значение - 45177.000000.<br><br>\n",
    "Эти статистические показатели позволяют оценить основные характеристики числового столбца \"MILES\", такие как среднее значение, разброс данных (стандартное отклонение), минимальное и максимальное значения, а также квантили, что может быть полезно при анализе данных и поиске выбросов."
   ]
  },
  {
   "cell_type": "markdown",
   "metadata": {},
   "source": [
    "Выведено на экран названия столбцов с помощью df.columns. "
   ]
  },
  {
   "cell_type": "code",
   "execution_count": 5,
   "metadata": {},
   "outputs": [
    {
     "data": {
      "text/plain": [
       "Index(['START_DATE', 'END_DATE', 'CATEGORY*', 'START', 'STOP', 'MILES',\n",
       "       'PURPOSEroute'],\n",
       "      dtype='object')"
      ]
     },
     "execution_count": 5,
     "metadata": {},
     "output_type": "execute_result"
    }
   ],
   "source": [
    "df.columns"
   ]
  },
  {
   "cell_type": "markdown",
   "metadata": {},
   "source": [
    "Проблема заключается в том, что названия не имеют единого формата. Для этого переименуем столбцы."
   ]
  },
  {
   "cell_type": "code",
   "execution_count": 6,
   "metadata": {},
   "outputs": [
    {
     "data": {
      "text/plain": [
       "Index(['START_DATE', 'END_DATE', 'CATEGORY', 'START', 'STOP', 'MILES',\n",
       "       'PURPOSE_ROUTE'],\n",
       "      dtype='object')"
      ]
     },
     "execution_count": 6,
     "metadata": {},
     "output_type": "execute_result"
    }
   ],
   "source": [
    "df.columns = ['START_DATE', 'END_DATE', 'CATEGORY', 'START', 'STOP', 'MILES', 'PURPOSE_ROUTE']\n",
    "df.columns"
   ]
  },
  {
   "cell_type": "markdown",
   "metadata": {},
   "source": [
    "Проверим на наличие пропусков еще раз."
   ]
  },
  {
   "cell_type": "code",
   "execution_count": 7,
   "metadata": {},
   "outputs": [
    {
     "name": "stdout",
     "output_type": "stream",
     "text": [
      "<class 'pandas.core.frame.DataFrame'>\n",
      "RangeIndex: 161 entries, 0 to 160\n",
      "Data columns (total 7 columns):\n",
      " #   Column         Non-Null Count  Dtype  \n",
      "---  ------         --------------  -----  \n",
      " 0   START_DATE     161 non-null    object \n",
      " 1   END_DATE       161 non-null    object \n",
      " 2   CATEGORY       161 non-null    object \n",
      " 3   START          161 non-null    object \n",
      " 4   STOP           161 non-null    object \n",
      " 5   MILES          161 non-null    float64\n",
      " 6   PURPOSE_ROUTE  84 non-null     object \n",
      "dtypes: float64(1), object(6)\n",
      "memory usage: 8.9+ KB\n"
     ]
    }
   ],
   "source": [
    "df.info()"
   ]
  },
  {
   "cell_type": "markdown",
   "metadata": {},
   "source": [
    "По данным видно, что пропуски есть только в столбце PURPOSE_ROUTE. С помощью метода fillna() заменены пропуски на 'Unknown'"
   ]
  },
  {
   "cell_type": "code",
   "execution_count": 8,
   "metadata": {},
   "outputs": [
    {
     "name": "stdout",
     "output_type": "stream",
     "text": [
      "<class 'pandas.core.frame.DataFrame'>\n",
      "RangeIndex: 161 entries, 0 to 160\n",
      "Data columns (total 7 columns):\n",
      " #   Column         Non-Null Count  Dtype  \n",
      "---  ------         --------------  -----  \n",
      " 0   START_DATE     161 non-null    object \n",
      " 1   END_DATE       161 non-null    object \n",
      " 2   CATEGORY       161 non-null    object \n",
      " 3   START          161 non-null    object \n",
      " 4   STOP           161 non-null    object \n",
      " 5   MILES          161 non-null    float64\n",
      " 6   PURPOSE_ROUTE  161 non-null    object \n",
      "dtypes: float64(1), object(6)\n",
      "memory usage: 8.9+ KB\n"
     ]
    }
   ],
   "source": [
    "df['PURPOSE_ROUTE'].fillna('Unknown', inplace=True)\n",
    "df.info()"
   ]
  },
  {
   "cell_type": "markdown",
   "metadata": {},
   "source": [
    "После получаем таблицу без пропусков."
   ]
  },
  {
   "cell_type": "markdown",
   "metadata": {},
   "source": [
    "Далее проверим на явные дубликаты."
   ]
  },
  {
   "cell_type": "code",
   "execution_count": 9,
   "metadata": {},
   "outputs": [
    {
     "data": {
      "text/html": [
       "<div>\n",
       "<style scoped>\n",
       "    .dataframe tbody tr th:only-of-type {\n",
       "        vertical-align: middle;\n",
       "    }\n",
       "\n",
       "    .dataframe tbody tr th {\n",
       "        vertical-align: top;\n",
       "    }\n",
       "\n",
       "    .dataframe thead th {\n",
       "        text-align: right;\n",
       "    }\n",
       "</style>\n",
       "<table border=\"1\" class=\"dataframe\">\n",
       "  <thead>\n",
       "    <tr style=\"text-align: right;\">\n",
       "      <th></th>\n",
       "      <th>START_DATE</th>\n",
       "      <th>END_DATE</th>\n",
       "      <th>CATEGORY</th>\n",
       "      <th>START</th>\n",
       "      <th>STOP</th>\n",
       "      <th>MILES</th>\n",
       "      <th>PURPOSE_ROUTE</th>\n",
       "    </tr>\n",
       "  </thead>\n",
       "  <tbody>\n",
       "    <tr>\n",
       "      <th>159</th>\n",
       "      <td>7.26.2016 22:31</td>\n",
       "      <td>7.26.2016 22:39</td>\n",
       "      <td>Business</td>\n",
       "      <td>Morrisville</td>\n",
       "      <td>Cary</td>\n",
       "      <td>45048.0</td>\n",
       "      <td>Meal/Entertain</td>\n",
       "    </tr>\n",
       "    <tr>\n",
       "      <th>160</th>\n",
       "      <td>7.26.2016 22:31</td>\n",
       "      <td>7.26.2016 22:39</td>\n",
       "      <td>Business</td>\n",
       "      <td>Morrisville</td>\n",
       "      <td>Cary</td>\n",
       "      <td>45048.0</td>\n",
       "      <td>Meal/Entertain</td>\n",
       "    </tr>\n",
       "  </tbody>\n",
       "</table>\n",
       "</div>"
      ],
      "text/plain": [
       "          START_DATE         END_DATE  CATEGORY        START  STOP    MILES  \\\n",
       "159  7.26.2016 22:31  7.26.2016 22:39  Business  Morrisville  Cary  45048.0   \n",
       "160  7.26.2016 22:31  7.26.2016 22:39  Business  Morrisville  Cary  45048.0   \n",
       "\n",
       "      PURPOSE_ROUTE  \n",
       "159  Meal/Entertain  \n",
       "160  Meal/Entertain  "
      ]
     },
     "execution_count": 9,
     "metadata": {},
     "output_type": "execute_result"
    }
   ],
   "source": [
    "df[df.duplicated()]"
   ]
  },
  {
   "cell_type": "markdown",
   "metadata": {},
   "source": [
    "Видно что две строки идентичны, избавимся от них с помощью drop_duplicates()."
   ]
  },
  {
   "cell_type": "code",
   "execution_count": 10,
   "metadata": {},
   "outputs": [
    {
     "data": {
      "text/html": [
       "<div>\n",
       "<style scoped>\n",
       "    .dataframe tbody tr th:only-of-type {\n",
       "        vertical-align: middle;\n",
       "    }\n",
       "\n",
       "    .dataframe tbody tr th {\n",
       "        vertical-align: top;\n",
       "    }\n",
       "\n",
       "    .dataframe thead th {\n",
       "        text-align: right;\n",
       "    }\n",
       "</style>\n",
       "<table border=\"1\" class=\"dataframe\">\n",
       "  <thead>\n",
       "    <tr style=\"text-align: right;\">\n",
       "      <th></th>\n",
       "      <th>START_DATE</th>\n",
       "      <th>END_DATE</th>\n",
       "      <th>CATEGORY</th>\n",
       "      <th>START</th>\n",
       "      <th>STOP</th>\n",
       "      <th>MILES</th>\n",
       "      <th>PURPOSE_ROUTE</th>\n",
       "    </tr>\n",
       "  </thead>\n",
       "  <tbody>\n",
       "  </tbody>\n",
       "</table>\n",
       "</div>"
      ],
      "text/plain": [
       "Empty DataFrame\n",
       "Columns: [START_DATE, END_DATE, CATEGORY, START, STOP, MILES, PURPOSE_ROUTE]\n",
       "Index: []"
      ]
     },
     "execution_count": 10,
     "metadata": {},
     "output_type": "execute_result"
    }
   ],
   "source": [
    "df.drop_duplicates(inplace=True)\n",
    "df[df.duplicated()]"
   ]
  },
  {
   "cell_type": "markdown",
   "metadata": {},
   "source": [
    "Проверим на неявные дубликаты (различные написания одного и того же) при помощи функции `unique()` для столбцов с тектовым типом данных.\n",
    "Для начала проверим столбец CATEGORY."
   ]
  },
  {
   "cell_type": "code",
   "execution_count": 11,
   "metadata": {},
   "outputs": [
    {
     "data": {
      "text/plain": [
       "array(['Business', 'BUSINESS', 'Personal'], dtype=object)"
      ]
     },
     "execution_count": 11,
     "metadata": {},
     "output_type": "execute_result"
    }
   ],
   "source": [
    "df['CATEGORY'].unique()"
   ]
  },
  {
   "cell_type": "markdown",
   "metadata": {},
   "source": [
    "Видем что Business пишется в двух вариациях. С помощью replace() поменяем на общий вид."
   ]
  },
  {
   "cell_type": "code",
   "execution_count": 12,
   "metadata": {},
   "outputs": [
    {
     "name": "stdout",
     "output_type": "stream",
     "text": [
      "<class 'pandas.core.frame.DataFrame'>\n",
      "Index: 159 entries, 0 to 158\n",
      "Data columns (total 7 columns):\n",
      " #   Column         Non-Null Count  Dtype  \n",
      "---  ------         --------------  -----  \n",
      " 0   START_DATE     159 non-null    object \n",
      " 1   END_DATE       159 non-null    object \n",
      " 2   CATEGORY       159 non-null    object \n",
      " 3   START          159 non-null    object \n",
      " 4   STOP           159 non-null    object \n",
      " 5   MILES          159 non-null    float64\n",
      " 6   PURPOSE_ROUTE  159 non-null    object \n",
      "dtypes: float64(1), object(6)\n",
      "memory usage: 9.9+ KB\n"
     ]
    }
   ],
   "source": [
    "df['CATEGORY'] = df['CATEGORY'].replace('BUSINESS', 'Business')\n",
    "df['CATEGORY'].unique()\n",
    "df.info()"
   ]
  },
  {
   "cell_type": "markdown",
   "metadata": {},
   "source": [
    "Тоже самое проделываем и для столбца PURPOSE_ROUTE, другие не рассматриваем, так как это или дата, или название."
   ]
  },
  {
   "cell_type": "code",
   "execution_count": 13,
   "metadata": {},
   "outputs": [
    {
     "data": {
      "text/plain": [
       "array(['MEETING', 'Meal/Entertain', 'Meeting', 'Customer Visit',\n",
       "       'Temporary Site', 'Unknown', 'Moving'], dtype=object)"
      ]
     },
     "execution_count": 13,
     "metadata": {},
     "output_type": "execute_result"
    }
   ],
   "source": [
    "df['PURPOSE_ROUTE'].unique()"
   ]
  },
  {
   "cell_type": "code",
   "execution_count": 14,
   "metadata": {},
   "outputs": [
    {
     "data": {
      "text/plain": [
       "array(['Meeting', 'Meal/Entertain', 'Customer Visit', 'Temporary Site',\n",
       "       'Unknown', 'Moving'], dtype=object)"
      ]
     },
     "execution_count": 14,
     "metadata": {},
     "output_type": "execute_result"
    }
   ],
   "source": [
    "df['PURPOSE_ROUTE'] = df['PURPOSE_ROUTE'].replace('MEETING', 'Meeting')\n",
    "df['PURPOSE_ROUTE'].unique()"
   ]
  },
  {
   "cell_type": "markdown",
   "metadata": {},
   "source": [
    "У столбцов с датой можно изменить тип данных на datetime. "
   ]
  },
  {
   "cell_type": "code",
   "execution_count": 15,
   "metadata": {},
   "outputs": [
    {
     "data": {
      "text/plain": [
       "START_DATE       datetime64[ns]\n",
       "END_DATE         datetime64[ns]\n",
       "CATEGORY                 object\n",
       "START                    object\n",
       "STOP                     object\n",
       "MILES                   float64\n",
       "PURPOSE_ROUTE            object\n",
       "dtype: object"
      ]
     },
     "execution_count": 15,
     "metadata": {},
     "output_type": "execute_result"
    }
   ],
   "source": [
    "df['START_DATE'] = pandas.to_datetime(df['START_DATE'], format='%m.%d.%Y %H:%M')\n",
    "df['END_DATE'] = pandas.to_datetime(df['END_DATE'], format='%m.%d.%Y %H:%M')\n",
    "df.dtypes"
   ]
  },
  {
   "cell_type": "markdown",
   "metadata": {},
   "source": [
    "Далее были выполнены задания."
   ]
  },
  {
   "cell_type": "markdown",
   "metadata": {},
   "source": [
    "### Задание 1"
   ]
  },
  {
   "cell_type": "markdown",
   "metadata": {},
   "source": [
    "**Группировка - CATEGORY  и количество поездок каждого типа (по цели маршрута). <br><br>**"
   ]
  },
  {
   "cell_type": "code",
   "execution_count": 16,
   "metadata": {},
   "outputs": [
    {
     "data": {
      "text/plain": [
       "CATEGORY  PURPOSE_ROUTE \n",
       "Business  Customer Visit    30\n",
       "          Meal/Entertain    34\n",
       "          Meeting           13\n",
       "          Temporary Site     4\n",
       "          Unknown           67\n",
       "Personal  Moving             1\n",
       "          Unknown           10\n",
       "Name: PURPOSE_ROUTE, dtype: int64"
      ]
     },
     "execution_count": 16,
     "metadata": {},
     "output_type": "execute_result"
    }
   ],
   "source": [
    "df.groupby(['CATEGORY', 'PURPOSE_ROUTE'])['PURPOSE_ROUTE'].count()"
   ]
  },
  {
   "cell_type": "markdown",
   "metadata": {},
   "source": [
    "Данный код подсчитывает с какой целью часто ездят, исходя из категории. Видно, что в категории деловых поездок, наиболее популярная цель поезки - обед, а в категории личных поездок - встреча (не считая пустых ячеек).<br>\n",
    "Этот анализ помогает понять, какие категории и цели маршрутов наиболее распространены или часто встречаются в данных, что может быть полезной информацией для принятия бизнес-решений или дальнейшего анализа.\n"
   ]
  },
  {
   "cell_type": "markdown",
   "metadata": {},
   "source": [
    "### Задание 2"
   ]
  },
  {
   "cell_type": "markdown",
   "metadata": {},
   "source": [
    "**Группировка - CATEGORY  и количество поездок каждого типа (по цели маршрута). Создать датафрейм. Переименовать столбец с количеством в “сount”. Отсортировать по убыванию столбца “count”. <br><br>**"
   ]
  },
  {
   "cell_type": "code",
   "execution_count": 17,
   "metadata": {},
   "outputs": [
    {
     "data": {
      "text/html": [
       "<div>\n",
       "<style scoped>\n",
       "    .dataframe tbody tr th:only-of-type {\n",
       "        vertical-align: middle;\n",
       "    }\n",
       "\n",
       "    .dataframe tbody tr th {\n",
       "        vertical-align: top;\n",
       "    }\n",
       "\n",
       "    .dataframe thead th {\n",
       "        text-align: right;\n",
       "    }\n",
       "</style>\n",
       "<table border=\"1\" class=\"dataframe\">\n",
       "  <thead>\n",
       "    <tr style=\"text-align: right;\">\n",
       "      <th></th>\n",
       "      <th>CATEGORY</th>\n",
       "      <th>PURPOSE_ROUTE</th>\n",
       "      <th>count</th>\n",
       "    </tr>\n",
       "  </thead>\n",
       "  <tbody>\n",
       "    <tr>\n",
       "      <th>4</th>\n",
       "      <td>Business</td>\n",
       "      <td>Unknown</td>\n",
       "      <td>67</td>\n",
       "    </tr>\n",
       "    <tr>\n",
       "      <th>1</th>\n",
       "      <td>Business</td>\n",
       "      <td>Meal/Entertain</td>\n",
       "      <td>34</td>\n",
       "    </tr>\n",
       "    <tr>\n",
       "      <th>0</th>\n",
       "      <td>Business</td>\n",
       "      <td>Customer Visit</td>\n",
       "      <td>30</td>\n",
       "    </tr>\n",
       "    <tr>\n",
       "      <th>2</th>\n",
       "      <td>Business</td>\n",
       "      <td>Meeting</td>\n",
       "      <td>13</td>\n",
       "    </tr>\n",
       "    <tr>\n",
       "      <th>6</th>\n",
       "      <td>Personal</td>\n",
       "      <td>Unknown</td>\n",
       "      <td>10</td>\n",
       "    </tr>\n",
       "    <tr>\n",
       "      <th>3</th>\n",
       "      <td>Business</td>\n",
       "      <td>Temporary Site</td>\n",
       "      <td>4</td>\n",
       "    </tr>\n",
       "    <tr>\n",
       "      <th>5</th>\n",
       "      <td>Personal</td>\n",
       "      <td>Moving</td>\n",
       "      <td>1</td>\n",
       "    </tr>\n",
       "  </tbody>\n",
       "</table>\n",
       "</div>"
      ],
      "text/plain": [
       "   CATEGORY   PURPOSE_ROUTE  count\n",
       "4  Business         Unknown     67\n",
       "1  Business  Meal/Entertain     34\n",
       "0  Business  Customer Visit     30\n",
       "2  Business         Meeting     13\n",
       "6  Personal         Unknown     10\n",
       "3  Business  Temporary Site      4\n",
       "5  Personal          Moving      1"
      ]
     },
     "execution_count": 17,
     "metadata": {},
     "output_type": "execute_result"
    }
   ],
   "source": [
    "df1 = df.groupby(['CATEGORY', 'PURPOSE_ROUTE'])['PURPOSE_ROUTE'].count().reset_index(name ='count').sort_values('count', ascending=False)\n",
    "df1"
   ]
  },
  {
   "cell_type": "markdown",
   "metadata": {},
   "source": [
    "Создаем группировку как в предыдущем задании, столбец с получаемым значением называем - count и применяем функцию sort_values для данного столбца по убыванию. <br>\n",
    "Из выведенных данных можно заметить, что очень часто встречается неизвестная цель поездки, для более грамотного учета данных, следует обязать заполнять эти данные. <br>\n",
    "Анализ таких данных может помочь определить, какие цели маршрута наиболее популярны или наименее популярны в каждой из категорий поездок. Например, эти данные могут быть полезны для бизнес-аналитики при определении, на какие виды мероприятий или услуг следует сосредотачивать усилия или ресурсы."
   ]
  },
  {
   "cell_type": "markdown",
   "metadata": {},
   "source": [
    "### Задание 3"
   ]
  },
  {
   "cell_type": "markdown",
   "metadata": {},
   "source": [
    "**Сводная таблица (pivot_table) - средняя количество пройденных миль по каждой цели поездки (PURPOSEroute). Отсортировать по убыванию столбца MILES. Округлить значение до двух знаков. <br><br>**"
   ]
  },
  {
   "cell_type": "code",
   "execution_count": 25,
   "metadata": {},
   "outputs": [
    {
     "data": {
      "text/html": [
       "<div>\n",
       "<style scoped>\n",
       "    .dataframe tbody tr th:only-of-type {\n",
       "        vertical-align: middle;\n",
       "    }\n",
       "\n",
       "    .dataframe tbody tr th {\n",
       "        vertical-align: top;\n",
       "    }\n",
       "\n",
       "    .dataframe thead th {\n",
       "        text-align: right;\n",
       "    }\n",
       "</style>\n",
       "<table border=\"1\" class=\"dataframe\">\n",
       "  <thead>\n",
       "    <tr style=\"text-align: right;\">\n",
       "      <th></th>\n",
       "      <th>MILES</th>\n",
       "    </tr>\n",
       "    <tr>\n",
       "      <th>PURPOSE_ROUTE</th>\n",
       "      <th></th>\n",
       "    </tr>\n",
       "  </thead>\n",
       "  <tbody>\n",
       "    <tr>\n",
       "      <th>Temporary Site</th>\n",
       "      <td>45063.50</td>\n",
       "    </tr>\n",
       "    <tr>\n",
       "      <th>Moving</th>\n",
       "      <td>44932.00</td>\n",
       "    </tr>\n",
       "    <tr>\n",
       "      <th>Meal/Entertain</th>\n",
       "      <td>41054.82</td>\n",
       "    </tr>\n",
       "    <tr>\n",
       "      <th>Unknown</th>\n",
       "      <td>36859.20</td>\n",
       "    </tr>\n",
       "    <tr>\n",
       "      <th>Customer Visit</th>\n",
       "      <td>36023.20</td>\n",
       "    </tr>\n",
       "    <tr>\n",
       "      <th>Meeting</th>\n",
       "      <td>34646.85</td>\n",
       "    </tr>\n",
       "  </tbody>\n",
       "</table>\n",
       "</div>"
      ],
      "text/plain": [
       "                   MILES\n",
       "PURPOSE_ROUTE           \n",
       "Temporary Site  45063.50\n",
       "Moving          44932.00\n",
       "Meal/Entertain  41054.82\n",
       "Unknown         36859.20\n",
       "Customer Visit  36023.20\n",
       "Meeting         34646.85"
      ]
     },
     "execution_count": 25,
     "metadata": {},
     "output_type": "execute_result"
    }
   ],
   "source": [
    "df_pivot = pandas.pivot_table(df, values='MILES', index='PURPOSE_ROUTE', aggfunc='mean')\n",
    "df_pivot['MILES'] = df_pivot['MILES'].round(2)\n",
    "df_pivot.sort_values(by='MILES', ascending=False, inplace=True)\n",
    "df_pivot"
   ]
  },
  {
   "cell_type": "markdown",
   "metadata": {},
   "source": [
    "Для начала создадим сводную таблицу, используя - pivot_table. Далее округлим столбец MILES до двух знаков после запятой и отсортируем этот же столбец по убыванию.<br>\n",
    "Самая большая средняя длина поездки (около 45063.50 миль) наблюдается для цели маршрута \"Temporary Site\". Это может указывать на длительные поездки, связанные с временными рабочими объектами или местоположениями. <br>\n",
    "Анализ средней длины поездок по целям маршрута может быть полезным при определении того, какие типы поездок являются наиболее долгими или короткими, что может иметь значение для планирования и оценки ресурсов или стоимости поездок."
   ]
  },
  {
   "cell_type": "markdown",
   "metadata": {},
   "source": [
    "### Задание 4"
   ]
  },
  {
   "cell_type": "markdown",
   "metadata": {},
   "source": [
    "**Сводная таблица (pivot_table) - средняя количество пройденных миль по каждой цели поездки (PURPOSEroute) - столбцы и каждой категории - строки. Отсортировать по убыванию столбца CATEGORY. <br><br>**"
   ]
  },
  {
   "cell_type": "code",
   "execution_count": 46,
   "metadata": {},
   "outputs": [
    {
     "data": {
      "text/html": [
       "<div>\n",
       "<style scoped>\n",
       "    .dataframe tbody tr th:only-of-type {\n",
       "        vertical-align: middle;\n",
       "    }\n",
       "\n",
       "    .dataframe tbody tr th {\n",
       "        vertical-align: top;\n",
       "    }\n",
       "\n",
       "    .dataframe thead th {\n",
       "        text-align: right;\n",
       "    }\n",
       "</style>\n",
       "<table border=\"1\" class=\"dataframe\">\n",
       "  <thead>\n",
       "    <tr style=\"text-align: right;\">\n",
       "      <th>PURPOSE_ROUTE</th>\n",
       "      <th>Customer Visit</th>\n",
       "      <th>Meal/Entertain</th>\n",
       "      <th>Meeting</th>\n",
       "      <th>Moving</th>\n",
       "      <th>Temporary Site</th>\n",
       "      <th>Unknown</th>\n",
       "    </tr>\n",
       "    <tr>\n",
       "      <th>CATEGORY</th>\n",
       "      <th></th>\n",
       "      <th></th>\n",
       "      <th></th>\n",
       "      <th></th>\n",
       "      <th></th>\n",
       "      <th></th>\n",
       "    </tr>\n",
       "  </thead>\n",
       "  <tbody>\n",
       "    <tr>\n",
       "      <th>Business</th>\n",
       "      <td>36023.196667</td>\n",
       "      <td>41054.823529</td>\n",
       "      <td>34646.846154</td>\n",
       "      <td>NaN</td>\n",
       "      <td>45063.5</td>\n",
       "      <td>36982.219403</td>\n",
       "    </tr>\n",
       "    <tr>\n",
       "      <th>Personal</th>\n",
       "      <td>NaN</td>\n",
       "      <td>NaN</td>\n",
       "      <td>NaN</td>\n",
       "      <td>44932.0</td>\n",
       "      <td>NaN</td>\n",
       "      <td>36035.000000</td>\n",
       "    </tr>\n",
       "  </tbody>\n",
       "</table>\n",
       "</div>"
      ],
      "text/plain": [
       "PURPOSE_ROUTE  Customer Visit  Meal/Entertain       Meeting   Moving  \\\n",
       "CATEGORY                                                               \n",
       "Business         36023.196667    41054.823529  34646.846154      NaN   \n",
       "Personal                  NaN             NaN           NaN  44932.0   \n",
       "\n",
       "PURPOSE_ROUTE  Temporary Site       Unknown  \n",
       "CATEGORY                                     \n",
       "Business              45063.5  36982.219403  \n",
       "Personal                  NaN  36035.000000  "
      ]
     },
     "execution_count": 46,
     "metadata": {},
     "output_type": "execute_result"
    }
   ],
   "source": [
    "df_pivot2 = pandas.pivot_table(df, columns='PURPOSE_ROUTE', values='MILES', index='CATEGORY', aggfunc='mean')\n",
    "df_pivot2.sort_values(by='CATEGORY', ascending=False)\n",
    "df_pivot2"
   ]
  },
  {
   "cell_type": "markdown",
   "metadata": {},
   "source": [
    "Проделываем туже самую работу, что и в прошлом задании, но теперь в pivot_table передается массив столбцов. Сортировка же для символьных типов данных идет по ASCII таблице (по алфавитному порядку).<br>\n",
    "Для категории \"Business\" видно, что наибольшее среднее количество миль (около 45063.50) относится к цели маршрута \"Temporary Site\", а самое низкое среднее количество миль (около 34646.85) - к цели маршрута \"Meeting\". Таким образом, для деловых поездок, связанных с временными местоположениями, требуется наибольшее расстояние.<br>\n",
    "Анализ такой таблицы может помочь понять, какие цели маршрута наиболее типичны или характерны для каждой категории поездки, и какие из них требуют более долгих поездок по милям."
   ]
  },
  {
   "cell_type": "markdown",
   "metadata": {},
   "source": [
    "### Дополнительное задание"
   ]
  },
  {
   "cell_type": "markdown",
   "metadata": {},
   "source": [
    "**Добавить столбец с длительностью поездки, выбрать только бизнесс класс. Составить сводную таблицу с целью маршрута и уго длительностью.**"
   ]
  },
  {
   "cell_type": "code",
   "execution_count": 93,
   "metadata": {},
   "outputs": [
    {
     "data": {
      "text/html": [
       "<div>\n",
       "<style scoped>\n",
       "    .dataframe tbody tr th:only-of-type {\n",
       "        vertical-align: middle;\n",
       "    }\n",
       "\n",
       "    .dataframe tbody tr th {\n",
       "        vertical-align: top;\n",
       "    }\n",
       "\n",
       "    .dataframe thead th {\n",
       "        text-align: right;\n",
       "    }\n",
       "</style>\n",
       "<table border=\"1\" class=\"dataframe\">\n",
       "  <thead>\n",
       "    <tr style=\"text-align: right;\">\n",
       "      <th></th>\n",
       "      <th>TIME_IN_ROAD</th>\n",
       "    </tr>\n",
       "    <tr>\n",
       "      <th>PURPOSE_ROUTE</th>\n",
       "      <th></th>\n",
       "    </tr>\n",
       "  </thead>\n",
       "  <tbody>\n",
       "    <tr>\n",
       "      <th>Customer Visit</th>\n",
       "      <td>19.40</td>\n",
       "    </tr>\n",
       "    <tr>\n",
       "      <th>Meal/Entertain</th>\n",
       "      <td>14.74</td>\n",
       "    </tr>\n",
       "    <tr>\n",
       "      <th>Meeting</th>\n",
       "      <td>25.62</td>\n",
       "    </tr>\n",
       "    <tr>\n",
       "      <th>Temporary Site</th>\n",
       "      <td>24.75</td>\n",
       "    </tr>\n",
       "    <tr>\n",
       "      <th>Unknown</th>\n",
       "      <td>22.18</td>\n",
       "    </tr>\n",
       "  </tbody>\n",
       "</table>\n",
       "</div>"
      ],
      "text/plain": [
       "                TIME_IN_ROAD\n",
       "PURPOSE_ROUTE               \n",
       "Customer Visit         19.40\n",
       "Meal/Entertain         14.74\n",
       "Meeting                25.62\n",
       "Temporary Site         24.75\n",
       "Unknown                22.18"
      ]
     },
     "execution_count": 93,
     "metadata": {},
     "output_type": "execute_result"
    }
   ],
   "source": [
    "df_pivot3 = df[df[\"CATEGORY\"] == \"Business\"].copy()\n",
    "df_pivot3[\"TIME_IN_ROAD\"] = (df_pivot3[\"END_DATE\"] - df_pivot3[\"START_DATE\"]).dt.total_seconds() / 60\n",
    "df_pivot3 = pandas.pivot_table(df_pivot3, values='TIME_IN_ROAD', index='PURPOSE_ROUTE', aggfunc='mean')\n",
    "df_pivot3[\"TIME_IN_ROAD\"] = df_pivot3[\"TIME_IN_ROAD\"].round(2)\n",
    "df_pivot3"
   ]
  },
  {
   "cell_type": "markdown",
   "metadata": {},
   "source": [
    "Самое короткое среднее время в пути наблюдается для цели маршрута \"Meal/Entertain\" (14.74 минут). Это может означать, что поездки, связанные с обедами или развлечениями, обычно не требуют много времени на перемещение. <br>\n",
    "Анализ таких данных может быть полезным при планировании или оценке времени, затрачиваемого на деловые поездки, и может помочь определить, какие типы поездок часто требуют большего времени в пути."
   ]
  },
  {
   "cell_type": "markdown",
   "metadata": {},
   "source": [
    "## Вывод "
   ]
  },
  {
   "cell_type": "markdown",
   "metadata": {},
   "source": [
    "В данной лабораторной работе были рассмотрены основные операции с данными с использованием библиотеки pandas в Python. А также использование jupiter для оформления. Вот ключевые моменты и шаги, выполненные в рамках лабораторной работы: <br> \n",
    "- Загрузка данных: Данные были предоставлены в формате текстового файла или CSV. Мы использовали библиотеку pandas для загрузки данных в DataFrame - удобную структуру данных для анализа и манипуляций с данными.\n",
    "- Изучение данных: Мы использовали методы .head(), .tail(), .info(), и .describe() для первичного изучения данных. Эти методы позволяют нам получить представление о данных, включая типы данных, наличие пропусков и основные статистические показатели.\n",
    "- Обработка данных: Мы рассмотрели различные методы обработки данных, такие как удаление или замена пропусков с использованием .dropna() и .fillna(), а также удаление дубликатов с использованием .drop_duplicates().\n",
    "- Создание сводных таблиц: Мы использовали метод pivot_table для создания сводных таблиц, позволяющих агрегировать данные и анализировать их в разных срезах. Мы выполнили сортировку сводной таблицы по убыванию.\n",
    "- Округление значений: Мы использовали метод .round() для округления числовых значений в сводной таблице до двух знаков после запятой.<br> <br> \n",
    "Эти шаги представляют собой основные операции по обработке и анализу данных с использованием библиотеки pandas. Все они могут быть адаптированы и расширены для работы с реальными данными и решения конкретных задач анализа данных. Важно иметь понимание о том, как использовать эти инструменты для эффективной обработки и анализа данных в Python."
   ]
  }
 ],
 "metadata": {
  "kernelspec": {
   "display_name": "Python 3",
   "language": "python",
   "name": "python3"
  },
  "language_info": {
   "codemirror_mode": {
    "name": "ipython",
    "version": 3
   },
   "file_extension": ".py",
   "mimetype": "text/x-python",
   "name": "python",
   "nbconvert_exporter": "python",
   "pygments_lexer": "ipython3",
   "version": "3.10.12"
  },
  "orig_nbformat": 4
 },
 "nbformat": 4,
 "nbformat_minor": 2
}
